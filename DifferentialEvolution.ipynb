{
  "nbformat": 4,
  "nbformat_minor": 0,
  "metadata": {
    "colab": {
      "provenance": [],
      "gpuType": "T4"
    },
    "kernelspec": {
      "name": "python3",
      "display_name": "Python 3"
    },
    "language_info": {
      "name": "python"
    },
    "accelerator": "GPU"
  },
  "cells": [
    {
      "cell_type": "code",
      "execution_count": null,
      "metadata": {
        "id": "ItWHpvjznRu6"
      },
      "outputs": [],
      "source": [
        "import numpy as np"
      ]
    },
    {
      "cell_type": "code",
      "source": [
        "num_pop = 10\n",
        "num_dim = 5\n",
        "up = 5\n",
        "low = 0"
      ],
      "metadata": {
        "id": "s-Hi6gCXpXhA"
      },
      "execution_count": null,
      "outputs": []
    },
    {
      "cell_type": "code",
      "source": [
        "population = np.random.rand(num_pop, num_dim)"
      ],
      "metadata": {
        "id": "MdywRAp9pGd6"
      },
      "execution_count": null,
      "outputs": []
    },
    {
      "cell_type": "code",
      "source": [
        "population = [low + (x * (up-low)) for x in population]\n",
        "population = np.round(population,4)"
      ],
      "metadata": {
        "id": "IuLdCY-Wnjet"
      },
      "execution_count": null,
      "outputs": []
    },
    {
      "cell_type": "code",
      "source": [
        "print(population[5])\n",
        "print(len(population))"
      ],
      "metadata": {
        "colab": {
          "base_uri": "https://localhost:8080/"
        },
        "id": "ekIMRatyofLg",
        "outputId": "69e0a43f-d1ad-4e6c-da12-d9670c6f6c50"
      },
      "execution_count": null,
      "outputs": [
        {
          "output_type": "stream",
          "name": "stdout",
          "text": [
            "[4.9568 3.1471 2.9356 3.0072 0.3709]\n",
            "10\n"
          ]
        }
      ]
    },
    {
      "cell_type": "code",
      "source": [
        "def fitness_func(x):\n",
        "  return x**2\n",
        "\n"
      ],
      "metadata": {
        "id": "XZa6rAmjqytf"
      },
      "execution_count": null,
      "outputs": []
    },
    {
      "cell_type": "code",
      "source": [
        "temp = fitness_func(population[2])\n",
        "temp1 = fitness_func(population[3])\n",
        "\n",
        "print(population[2])\n",
        "print(temp)\n",
        "print(sum(temp))\n",
        "print(sum(temp1))\n",
        "print(temp>temp1)\n",
        "if sum(temp)<= sum(temp1):\n",
        "  print(1)"
      ],
      "metadata": {
        "colab": {
          "base_uri": "https://localhost:8080/"
        },
        "id": "3fh9kdND7EXF",
        "outputId": "ea7714eb-293c-4f4c-bd7a-20bc509acfa0"
      },
      "execution_count": null,
      "outputs": [
        {
          "output_type": "stream",
          "name": "stdout",
          "text": [
            "[3.9494 3.1838 1.7469 1.1759 1.6858]\n",
            "[15.59776036 10.13658244  3.05165961  1.38274081  2.84192164]\n",
            "33.010664860000006\n",
            "34.058384700000005\n",
            "[ True  True False False  True]\n",
            "1\n"
          ]
        }
      ]
    },
    {
      "cell_type": "code",
      "source": [
        "def differential_evolution(fitness_func, dim_num, lw_bound, up_bound, pop_size, mutation_fac, cr_prob, break_point):\n",
        "\n",
        "  #initlize population\n",
        "  population = np.random.rand(pop_size, dim_num)\n",
        "  population = [lw_bound + (x * (up_bound-lw_bound)) for x in population]\n",
        "  population = np.round(population, 4)\n",
        "\n",
        "  #evaluate\n",
        "  fitness_scores = [np.sum(fitness_func(x)) for x in population]\n",
        "  fitness_scores = np.round(fitness_scores, 4)\n",
        "\n",
        "  for generation in range(break_point):\n",
        "    for i in range(len(population)):\n",
        "\n",
        "      #mutation\n",
        "      idx = [k for k in range(len(population)) if k != i]\n",
        "      x_1, x_2, x_3 = population[np.random.choice(idx, 3, replace=False)]\n",
        "\n",
        "      mutation_vector = x_1 + mutation_fac * (x_2 - x_3)\n",
        "      mutation_vector = np.round(mutation_vector, 4)\n",
        "      mutation_vector = np.clip(mutation_vector, lw_bound, up_bound)\n",
        "\n",
        "      #crossover\n",
        "      d_rand = np.random.randint(0, dim_num)\n",
        "      trial_vector = np.zeros(dim_num)\n",
        "      for j in range(dim_num):\n",
        "        if np.random.rand() < cr_prob or j == d_rand:\n",
        "          trial_vector[j] = mutation_vector[j]\n",
        "        else:\n",
        "          trial_vector[j] = population[i][j]\n",
        "\n",
        "      #selectiion\n",
        "      trial_fitness = np.sum(fitness_func(trial_vector))\n",
        "      trial_fitness = np.round(trial_fitness, 4)\n",
        "      if trial_fitness < fitness_scores[i]:\n",
        "              population[i] = trial_vector\n",
        "              fitness_scores[i] = trial_fitness\n",
        "\n",
        "    if generation % 100 == 0 :\n",
        "      best_index = np.argmin(fitness_scores)\n",
        "      best_solution = population[best_index]\n",
        "      best_fitness = fitness_scores[best_index]\n",
        "      print(f'best_solution is : {best_solution}, best_fitness is : {best_fitness}')\n",
        "\n",
        "  return best_solution, best_fitness\n"
      ],
      "metadata": {
        "id": "LBIs4O1YnUWK"
      },
      "execution_count": null,
      "outputs": []
    },
    {
      "cell_type": "code",
      "source": [
        "best_sol , best_fit = differential_evolution(fitness_func, 10, -10, 10, 1000, 1.5, 0.2, 500)\n"
      ],
      "metadata": {
        "colab": {
          "base_uri": "https://localhost:8080/"
        },
        "id": "_1OCaCC4AMx8",
        "outputId": "c83767f5-b532-4d6e-e70a-e75be54a931b"
      },
      "execution_count": null,
      "outputs": [
        {
          "output_type": "stream",
          "name": "stdout",
          "text": [
            "best_solution is : [-1.0993  0.1542  4.6722  0.8177 -1.8505  0.19   -0.1568  3.7152  5.377\n",
            "  3.5696], best_fitness is : 82.6722\n",
            "best_solution is : [-0.6765 -0.112   0.0578 -1.4576  0.286   0.1131  0.9476 -0.1328 -0.8219\n",
            "  0.1303], best_fitness is : 4.30080176\n",
            "best_solution is : [-0.0348 -0.012  -0.1445 -0.0754  0.1848  0.0532  0.2174 -0.1177 -0.0629\n",
            " -0.05  ], best_fitness is : 0.13247418999999996\n",
            "best_solution is : [ 0.0208 -0.0071 -0.0665  0.0203  0.0867  0.0227  0.058   0.0296 -0.0031\n",
            " -0.0294], best_fitness is : 0.018463700000000003\n",
            "best_solution is : [ 0.0082  0.0054 -0.0103  0.0062  0.0256 -0.005   0.0067  0.0106 -0.0028\n",
            " -0.0065], best_fitness is : 0.00112863\n"
          ]
        }
      ]
    }
  ]
}